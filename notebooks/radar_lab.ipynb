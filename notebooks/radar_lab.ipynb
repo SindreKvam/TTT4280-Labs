{
 "cells": [
  {
   "cell_type": "markdown",
   "metadata": {},
   "source": [
    "# Forberedelsesoppgaver"
   ]
  },
  {
   "cell_type": "markdown",
   "metadata": {},
   "source": [
    "## Oppgave 1\n",
    "\n",
    "*Utled et uttrykk for teoretisk dopplerskift som funksjon av radiell hastighet ved 24.13 GHz\n",
    "senterfrekvens.*"
   ]
  },
  {
   "cell_type": "markdown",
   "metadata": {},
   "source": [
    "Dopplerskift $f_D$ til et radarekko er gitt ved\n",
    "$$f_D = \\frac{2f_0v_r}{c}.$$\n",
    "der $f_0$ er senderfrekvensen til signalet, $v_r$ er den radielle hastigheten og $c$ er lyshastigheten.\n",
    "Den radielle hastigheten er hastighetskomponenten som er rettet direkte mot observatøren."
   ]
  },
  {
   "cell_type": "markdown",
   "metadata": {},
   "source": [
    "## Oppgave 2\n",
    "*Anta at dere kan måle hastigheten til et objekt med observasjonstid T på ett sekund. Hva blir\n",
    "teoretisk måleoppløsning for måling av hastigheten?*"
   ]
  },
  {
   "cell_type": "markdown",
   "metadata": {},
   "source": [
    "For en continous wave (CW) radar, så er måleoppløsningen $\\delta f_D$ være gitt ved\n",
    "$$\\delta f_D = \\frac{1}{T}.$$\n",
    "\n",
    "Ved en observasjonstid på 1 s. Så vil måleoppløsningen være $\\delta f_D = 1\\text{ Hz}$. Vi kan da måle frekvensendringer ned til 1 Hz med dette oppsettet.\n",
    "\n",
    "For å få litt mere relevant oppløsning for hastighetsmåling som vi er interesserte i, så kan vi snu om på formelen for dopplerskiftet.\n",
    "$$v_r = \\frac{f_Dc}{2f_0}$$\n",
    "Setter så inn for $\\delta f_D = \\frac{1}{T}$.\n",
    "$$\\delta v_r = \\frac{c}{2f_0T}$$\n",
    "\n",
    "Vi kan så sette inn $f_0 = 24.13\\cdot 10^9$, $T = 1$, $c = 3\\cdot 10^8$ og ende opp med.\n",
    "$$\\delta v_r = \\frac{3\\cdot 10^8}{2\\cdot 24.13\\cdot 10^9} = 6.2\\cdot 10^{-3} \\text{ m/s} = 6.2 \\text{ mm/s}$$\n",
    "Som vil si at man kan beregne med en hastighet på 6.2 mm per sekund."
   ]
  },
  {
   "cell_type": "markdown",
   "metadata": {},
   "source": [
    "## Oppgave 3\n",
    "$$G \\approx 10\\log_{10}{\\left( \\frac{30000}{\\theta_e \\theta_a} \\right)}, \\quad \\text{[dBi]}$$\n",
    "*Beregn antennevinning ut fra ligningen over og sammenlign med data som fins i databladet for\n",
    "radaren.*"
   ]
  },
  {
   "cell_type": "markdown",
   "metadata": {},
   "source": []
  },
  {
   "cell_type": "markdown",
   "metadata": {},
   "source": [
    "* $\\theta_e$: elevation (vertikalt)\n",
    "* $\\theta_a$: azimuth (horisontalt)\n",
    "I følge datablad til [radaren](https://rfbeam.ch/wp-content/uploads/dlm_uploads/2022/11/K-LC6_Datasheet.pdf):\n",
    "så er disse vinklene  $\\theta_e = 80 \\text{ deg}$ og $\\theta_a = 12 \\text{ deg}$.\n",
    "\n",
    "$$G \\approx 10 \\log_{10}{\\left(\\frac{30000}{80*12}\\right)} = 15 [\\text{ dBi}]$$\n",
    "I følge databladet så er forventet antenne gain på $G_{ANT} = 12.5$ dBi."
   ]
  },
  {
   "cell_type": "markdown",
   "metadata": {},
   "source": [
    "## Oppgave 4\n",
    "*Beregn radartverrsnittet ved 24 GHz til en hjørnereflektor som har sidekant a = 15.5 cm.*"
   ]
  },
  {
   "cell_type": "markdown",
   "metadata": {},
   "source": [
    "Radartverrsnittet for en trihedral hjørnereflektor med\n",
    "triangulære flater er tilnærmet gitt ved $$\\sigma = \\frac{4\\pi a^4}{3 \\lambda^2}.$$\n",
    "Der $a$ er , og $\\lambda$ er bølgelengden til det sendte frekvenssignalet. Bølgelengden er gitt ved $\\lambda = \\frac{c}{f_0}$.\n",
    "\n",
    "$$\\sigma = \\frac{4\\pi a^3}{3\\left( \\frac{c}{f_0} \\right)^2} = 15.47 \\text{ m}^2$$"
   ]
  },
  {
   "cell_type": "markdown",
   "metadata": {},
   "source": [
    "## Oppgave 5\n",
    "*Hvor mye må reflektoren beveges radielt for at I-Q-phasoren skal foreta et 360-graders faseomløp?*"
   ]
  },
  {
   "cell_type": "markdown",
   "metadata": {},
   "source": [
    "Den mottatte fase-endringen $\\Delta \\phi$ er gitt av den endringen i radiell distanse $\\Delta r$ delt på bølgelengden $\\lambda$.\n",
    "For å få oppgitt i radianer, så ganger vi med $2\\pi$, og ganger med 2 for å kompansere for tur og retur:\n",
    "$$\\Delta \\phi = 2\\frac{2\\pi\\Delta r}{\\lambda} \\Rightarrow \\Delta r = \\frac{\\lambda \\Delta\\phi}{4\\pi}$$ \n",
    "Ved å sette inn tall med forventet fase-endring på 360 grader ($2\\pi$) så får vi:\n",
    "$$\\Delta r = \\frac{\\lambda 2\\pi}{4\\pi} = \\frac{\\lambda}{2}$$\n",
    "\n",
    "Bilen må bevege seg en halv bølgelengde for at I-Q-phasoren skal gjøre en 360-graders fase-endring."
   ]
  }
 ],
 "metadata": {
  "kernelspec": {
   "display_name": "venv",
   "language": "python",
   "name": "python3"
  },
  "language_info": {
   "codemirror_mode": {
    "name": "ipython",
    "version": 3
   },
   "file_extension": ".py",
   "mimetype": "text/x-python",
   "name": "python",
   "nbconvert_exporter": "python",
   "pygments_lexer": "ipython3",
   "version": "3.13.1"
  }
 },
 "nbformat": 4,
 "nbformat_minor": 2
}
